{
 "cells": [
  {
   "cell_type": "code",
   "execution_count": 1,
   "id": "ebc1beb3-bbcd-45e4-be34-7c95ea464470",
   "metadata": {},
   "outputs": [],
   "source": [
    "try:\n",
    "    import pygraphblas\n",
    "except:\n",
    "    !mamba install -c conda-forge pygraphblas"
   ]
  },
  {
   "cell_type": "code",
   "execution_count": 16,
   "id": "982508dd-2f43-417c-863d-1ec88779f18d",
   "metadata": {},
   "outputs": [],
   "source": [
    "from pygraphblas import *\n",
    "import numpy as np"
   ]
  },
  {
   "cell_type": "code",
   "execution_count": 3,
   "id": "4c618f21-709e-4a73-8b18-a9ce29268a95",
   "metadata": {},
   "outputs": [],
   "source": [
    "def cohen(A, U, L): return L.mxm(U, mask=A)"
   ]
  },
  {
   "cell_type": "code",
   "execution_count": 4,
   "id": "0ed98a12-6378-44e1-a5bd-2f36b629dd7a",
   "metadata": {},
   "outputs": [],
   "source": [
    "prob = dict(Matrix.ssget('Newman/karate'))\n",
    "Mat = prob['karate.mtx'].cast(INT64)"
   ]
  },
  {
   "cell_type": "code",
   "execution_count": 5,
   "id": "e34ecad7-ac0a-4efb-94bc-474bd31240b7",
   "metadata": {},
   "outputs": [],
   "source": [
    "A = Mat.triu()\n",
    "B = Mat.tril()\n",
    "M = Mat\n",
    "C = cohen(Mat, A, B)"
   ]
  },
  {
   "cell_type": "code",
   "execution_count": 6,
   "id": "2090b90e-4fcb-495d-b702-cacc4dc3a9e6",
   "metadata": {},
   "outputs": [],
   "source": [
    "A_sp = A.to_scipy_sparse()\n",
    "B_sp = B.to_scipy_sparse()\n",
    "M_sp = M.to_scipy_sparse()\n",
    "C_sp = C.to_scipy_sparse()"
   ]
  },
  {
   "cell_type": "code",
   "execution_count": 31,
   "id": "2ff4d1fb-e47d-40e9-b880-b1cba58be267",
   "metadata": {},
   "outputs": [],
   "source": [
    "def np_to_str(npa):\n",
    "    return np.array2string(npa, separator=\",\").replace(\"[\", \"{\").replace(\"]\", \"}\")"
   ]
  },
  {
   "cell_type": "code",
   "execution_count": 32,
   "id": "2604808c-4bfd-4751-9058-b18842017d1a",
   "metadata": {},
   "outputs": [],
   "source": [
    "data = (np_to_str(A_sp.indptr), np_to_str(A_sp.indices), np_to_str(A_sp.data), \n",
    " np_to_str(B_sp.indptr), np_to_str(B_sp.indices), np_to_str(B_sp.data),\n",
    " np_to_str(M_sp.indptr), np_to_str(M_sp.indices), np_to_str(M_sp.data),\n",
    " np_to_str(C_sp.indptr), np_to_str(C_sp.indices), np_to_str(C_sp.data))\n",
    "\n",
    "output_str = \"\"\"\n",
    "#include <vector>\n",
    "#include <cstdint>\n",
    "\n",
    "template<typename T_A, typename T_B, typename T_C, typename T_M>\n",
    "class TestData {\n",
    "\n",
    "public:\n",
    "    TestData(  std::vector<std::int64_t> A_indptr_,\n",
    "    std::vector<std::int64_t> A_indices_,\n",
    "    std::vector<T_A> A_data_,\n",
    "\n",
    "    std::vector<std::int64_t> B_indptr_,\n",
    "    std::vector<std::int64_t> B_indices_,\n",
    "    std::vector<T_B> B_data_,\n",
    "\n",
    "\n",
    "    std::vector<std::int64_t> C_indptr_,\n",
    "    std::vector<std::int64_t> C_indices_,\n",
    "    std::vector<T_C> C_data_,\n",
    "\n",
    "    std::vector<std::int64_t> M_indptr_,\n",
    "    std::vector<std::int64_t> M_indices_,\n",
    "    std::vector<T_M> M_data_):\n",
    "        A_indptr(A_indptr_), A_indices(A_indices_), A_data(A_data_),\n",
    "        B_indptr(B_indptr_), B_indices(B_indices_), B_data(B_data_),\n",
    "        C_indptr(C_indptr_), C_indices(C_indices_), C_data(C_data_),\n",
    "        M_indptr(M_indptr_), M_indices(M_indices_), M_data(M_data_){}\n",
    "\n",
    "\n",
    "  std::vector<std::int64_t> A_indptr;\n",
    "  std::vector<std::int64_t> A_indices;\n",
    "  std::vector<T_A> A_data;\n",
    "  \n",
    "  std::vector<std::int64_t> B_indptr;\n",
    "  std::vector<std::int64_t> B_indices;\n",
    "  std::vector<T_B> B_data;\n",
    "  \n",
    "  \n",
    "  std::vector<std::int64_t> C_indptr;\n",
    "  std::vector<std::int64_t> C_indices;\n",
    "  std::vector<T_C> C_data;\n",
    "\n",
    "  std::vector<std::int64_t> M_indptr;\n",
    "  std::vector<std::int64_t> M_indices;\n",
    "  std::vector<T_M> M_data;\n",
    "\n",
    "};\n",
    "\n",
    "template<typename T_A, typename T_B, typename T_C, typename T_M>\n",
    "std::unique_ptr<TestData<T_A, T_B, T_C, T_M>> make_karate_tricount() {\n",
    "\n",
    "    std::vector<std::int64_t> A_indptr = %s;\n",
    "    std::vector<std::int64_t> A_indices = %s;\n",
    "    std::vector<T_A> A_data = %s;\n",
    "\n",
    "    std::vector<std::int64_t> B_indptr = %s;\n",
    "    std::vector<std::int64_t> B_indices = %s;\n",
    "    std::vector<T_B> B_data = %s;\n",
    "\n",
    "    std::vector<std::int64_t> M_indptr = %s;\n",
    "    std::vector<std::int64_t> M_indices = %s;\n",
    "    std::vector<T_M> M_data = %s;\n",
    "\n",
    "    std::vector<std::int64_t> C_indptr = %s;\n",
    "    std::vector<std::int64_t> C_indices = %s;\n",
    "    std::vector<T_C> C_data = %s;\n",
    "\n",
    "    TestData<T_A, T_B, T_C, T_M> karate_tricount(A_indptr, A_indices, A_data,\n",
    "                                                 B_indptr, B_indices, B_data,\n",
    "                                                 C_indptr, C_indices, C_data,\n",
    "                                                 M_indptr, M_indices, M_data);\n",
    "\n",
    "    return std::make_unique<TestData<T_A, T_B, T_C, T_M>>(karate_tricount);\n",
    "}\n",
    "\n",
    "\n",
    "\n",
    "TestData karate_tricount;\n",
    "karate.A_indptr = %s;\n",
    "karate.A_indices = %s;\n",
    "karate.A_data = %s;\n",
    "\n",
    "karate.B_indptr = %s;\n",
    "karate.B_indices = %s;\n",
    "karate.B_data = %s;\n",
    "\n",
    "karate.M_indptr = %s;\n",
    "karate.M_indices = %s;\n",
    "karate.M_data = %s;\n",
    "\n",
    "karate.C_indptr = %s;\n",
    "karate.C_indices = %s;\n",
    "karate.C_data = %s;\n",
    "\"\"\" % data"
   ]
  },
  {
   "cell_type": "code",
   "execution_count": 33,
   "id": "b8c2c497-7156-449e-9c44-6fa19bdedea3",
   "metadata": {},
   "outputs": [
    {
     "data": {
      "text/plain": [
       "'\\ntemplate<typename T_A, typename T_B, typename T_C, typename T_M>\\nstruct TestData {\\n\\n  std::vector<int64_t> A_indptr;\\n  std::vector<int64_t> A_indices;\\n  std::vector<T_A> A_data;\\n  \\n  std::vector<int64_t> B_indptr;\\n  std::vector<int64_t> B_indices;\\n  std::vector<T_B> B_data;\\n  \\n  \\n  std::vector<int64_t> C_indptr;\\n  std::vector<int64_t> C_indices;\\n  std::vector<T_C> C_data;\\n\\n  std::vector<int64_t> M_indptr;\\n  std::vector<int64_t> M_indices;\\n  std::vector<T_M> M_data;\\n\\n}\\n\\n\\nTestData karate_tricount;\\nkarate.A_indptr = { 0,16,24,32,35,37,40,41,41,44,45,45,45,45,46,48,50,50,50,52,53,55,55,57,\\n 62,65,66,68,69,71,73,75,77,78,78};\\nkarate.A_indices = { 1, 2, 3, 4, 5, 6, 7, 8,10,11,12,13,17,19,21,31, 2, 3, 7,13,17,19,21,30,\\n  3, 7, 8, 9,13,27,28,32, 7,12,13, 6,10, 6,10,16,16,30,32,33,33,33,32,33,\\n 32,33,32,33,33,32,33,32,33,25,27,29,32,33,25,27,31,31,29,33,33,31,33,32,\\n 33,32,33,32,33,33};\\nkarate.A_data = {1,1,1,1,1,1,1,1,1,1,1,1,1,1,1,1,1,1,1,1,1,1,1,1,1,1,1,1,1,1,1,1,1,1,1,1,1,\\n 1,1,1,1,1,1,1,1,1,1,1,1,1,1,1,1,1,1,1,1,1,1,1,1,1,1,1,1,1,1,1,1,1,1,1,1,1,\\n 1,1,1,1};\\n\\nkarate.B_indptr = { 0, 0, 1, 3, 6, 7, 8,11,15,17,18,21,22,24,28,28,28,30,32,32,34,34,36,36,\\n 36,36,38,38,41,42,44,46,50,61,78};\\nkarate.B_indices = { 0, 0, 1, 3, 6, 7, 8,11,15,17,18,21,22,24,28,28,28,30,32,32,34,34,36,36,\\n 36,36,38,38,41,42,44,46,50,61,78};\\nkarate.B_data = {1,1,1,1,1,1,1,1,1,1,1,1,1,1,1,1,1,1,1,1,1,1,1,1,1,1,1,1,1,1,1,1,1,1,1,1,1,\\n 1,1,1,1,1,1,1,1,1,1,1,1,1,1,1,1,1,1,1,1,1,1,1,1,1,1,1,1,1,1,1,1,1,1,1,1,1,\\n 1,1,1,1};\\n\\nkarate.M_indptr = {  0, 16, 25, 35, 41, 44, 48, 52, 56, 61, 63, 66, 67, 69, 74, 76, 78, 80,\\n  82, 84, 87, 89, 91, 93, 98,101,104,106,110,113,117,121,127,139,156};\\nkarate.M_indices = {  0, 16, 25, 35, 41, 44, 48, 52, 56, 61, 63, 66, 67, 69, 74, 76, 78, 80,\\n  82, 84, 87, 89, 91, 93, 98,101,104,106,110,113,117,121,127,139,156};\\nkarate.M_data = {1,1,1,1,1,1,1,1,1,1,1,1,1,1,1,1,1,1,1,1,1,1,1,1,1,1,1,1,1,1,1,1,1,1,1,1,1,\\n 1,1,1,1,1,1,1,1,1,1,1,1,1,1,1,1,1,1,1,1,1,1,1,1,1,1,1,1,1,1,1,1,1,1,1,1,1,\\n 1,1,1,1,1,1,1,1,1,1,1,1,1,1,1,1,1,1,1,1,1,1,1,1,1,1,1,1,1,1,1,1,1,1,1,1,1,\\n 1,1,1,1,1,1,1,1,1,1,1,1,1,1,1,1,1,1,1,1,1,1,1,1,1,1,1,1,1,1,1,1,1,1,1,1,1,\\n 1,1,1,1,1,1,1,1};\\n\\nkarate.C_indptr = { 0, 0, 7,12,17,19,21,24,27,29,29,31,31,32,35,35,35,36,37,37,38,38,39,39,\\n 39,39,40,40,41,41,43,45,47,51,56};\\nkarate.C_indices = { 0, 0, 7,12,17,19,21,24,27,29,29,31,31,32,35,35,35,36,37,37,38,38,39,39,\\n 39,39,40,40,41,41,43,45,47,51,56};\\nkarate.C_data = { 1, 1, 1, 1, 1, 1, 1, 1, 2, 2, 1, 2, 1, 2, 3, 1, 3, 1, 1, 1, 1, 1, 1, 1,\\n  1, 2, 3, 1, 1, 1, 1, 1, 1, 2, 3, 1, 1, 1, 1, 1, 1, 1, 2, 1, 1, 1, 1, 1,\\n  1, 1,10, 1, 2, 1, 1,10};\\n'"
      ]
     },
     "execution_count": 33,
     "metadata": {},
     "output_type": "execute_result"
    }
   ],
   "source": [
    "output_str"
   ]
  },
  {
   "cell_type": "code",
   "execution_count": 34,
   "id": "f0c11d60-a542-41b7-afe6-38d93df094f7",
   "metadata": {},
   "outputs": [],
   "source": [
    "def store_file(output_string, filename = \"test_data.hpp\"):\n",
    "    with open(filename, 'w') as f:\n",
    "        f.write(output_string)"
   ]
  },
  {
   "cell_type": "code",
   "execution_count": 35,
   "id": "bc22e70f-5373-4e80-88d5-c18e9c03cf76",
   "metadata": {},
   "outputs": [],
   "source": [
    "store_file(output_str)"
   ]
  },
  {
   "cell_type": "code",
   "execution_count": null,
   "id": "255965d0-b90b-4ad7-a53a-9f5eb4745906",
   "metadata": {},
   "outputs": [],
   "source": []
  }
 ],
 "metadata": {
  "kernelspec": {
   "display_name": "Python (cuml_2204_0222222_2)",
   "language": "python",
   "name": "cuml_2204_022222_2"
  },
  "language_info": {
   "codemirror_mode": {
    "name": "ipython",
    "version": 3
   },
   "file_extension": ".py",
   "mimetype": "text/x-python",
   "name": "python",
   "nbconvert_exporter": "python",
   "pygments_lexer": "ipython3",
   "version": "3.9.7"
  }
 },
 "nbformat": 4,
 "nbformat_minor": 5
}
